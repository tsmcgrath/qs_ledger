{
 "cells": [
  {
   "cell_type": "markdown",
   "metadata": {},
   "source": [
    "# Apple Health Extractor"
   ]
  },
  {
   "cell_type": "markdown",
   "metadata": {},
   "source": [
    "This code will parse your Apple Health export data, create multiple CSV and do some simple data checks and data analysis. \n",
    "\n",
    "Enjoy! "
   ]
  },
  {
   "cell_type": "markdown",
   "metadata": {},
   "source": [
    "--------"
   ]
  },
  {
   "cell_type": "markdown",
   "metadata": {},
   "source": [
    "## Extract Data and Export to CSVs from Apple Health's Export.xml"
   ]
  },
  {
   "cell_type": "markdown",
   "metadata": {},
   "source": [
    "* Command Line Tool to Process apple health's export.xml file \n",
    "* Create multiple CSV files for each data type. \n",
    "* Original Source: https://github.com/tdda/applehealthdata\n",
    "* Based on the size of your Apple Health Data, this script may take several minutes to complete.\n",
    "\n",
    "**NOTE: Currently there are a few minror errors based on additional data from Apple Health that require some updates.** "
   ]
  },
  {
   "cell_type": "markdown",
   "metadata": {},
   "source": [
    "## Setup and Usage NOTE\n",
    "\n",
    "* Export your data from Apple Health App on your phone. \n",
    "* Unzip export.zip into this directory and rename to data. \n",
    "* Inside your directory there should be a directory and file here: /data/export.xml\n",
    "* Run inside project or in the command line."
   ]
  },
  {
   "cell_type": "code",
   "execution_count": 1,
   "metadata": {},
   "outputs": [
    {
     "name": "stdout",
     "output_type": "stream",
     "text": [
      "Reading data from data/export.xml . . . done\n"
     ]
    },
    {
     "name": "stderr",
     "output_type": "stream",
     "text": [
      "/Users/Tim/Code/GitHub/qs_ledger/apple_health/apple-health-data-parser.py:136: DeprecationWarning: This method will be removed in future versions.  Use 'list(elem)' or iteration over elem instead.\n",
      "  self.nodes = self.root.getchildren()\n"
     ]
    },
    {
     "name": "stdout",
     "output_type": "stream",
     "text": [
      "Unexpected node of type ExportDate.\n",
      "\n",
      "Tags:\n",
      "ActivitySummary: 807\n",
      "ExportDate: 1\n",
      "Me: 1\n",
      "Record: 1537811\n",
      "Workout: 354\n",
      "\n",
      "Fields:\n",
      "HKCharacteristicTypeIdentifierBiologicalSex: 1\n",
      "HKCharacteristicTypeIdentifierBloodType: 1\n",
      "HKCharacteristicTypeIdentifierDateOfBirth: 1\n",
      "HKCharacteristicTypeIdentifierFitzpatrickSkinType: 1\n",
      "activeEnergyBurned: 807\n",
      "activeEnergyBurnedGoal: 807\n",
      "activeEnergyBurnedUnit: 807\n",
      "appleExerciseTime: 807\n",
      "appleExerciseTimeGoal: 807\n",
      "appleStandHours: 807\n",
      "appleStandHoursGoal: 807\n",
      "creationDate: 1538165\n",
      "dateComponents: 807\n",
      "device: 1495613\n",
      "duration: 354\n",
      "durationUnit: 354\n",
      "endDate: 1538165\n",
      "sourceName: 1538165\n",
      "sourceVersion: 1508543\n",
      "startDate: 1538165\n",
      "totalDistance: 354\n",
      "totalDistanceUnit: 354\n",
      "totalEnergyBurned: 354\n",
      "totalEnergyBurnedUnit: 354\n",
      "type: 1537811\n",
      "unit: 1516474\n",
      "value: 1537812\n",
      "workoutActivityType: 354\n",
      "\n",
      "Record types:\n",
      "ActiveEnergyBurned: 703080\n",
      "AppleExerciseTime: 14097\n",
      "AppleStandHour: 17515\n",
      "AppleStandTime: 13344\n",
      "BasalEnergyBurned: 196824\n",
      "BloodGlucose: 282\n",
      "BodyFatPercentage: 1109\n",
      "BodyMass: 1147\n",
      "BodyMassIndex: 1111\n",
      "DietaryCalcium: 37\n",
      "DietaryCarbohydrates: 39\n",
      "DietaryCholesterol: 44\n",
      "DietaryEnergyConsumed: 50\n",
      "DietaryFatMonounsaturated: 42\n",
      "DietaryFatPolyunsaturated: 44\n",
      "DietaryFatSaturated: 46\n",
      "DietaryFatTotal: 46\n",
      "DietaryFiber: 41\n",
      "DietaryIron: 39\n",
      "DietaryPotassium: 42\n",
      "DietaryProtein: 42\n",
      "DietarySodium: 41\n",
      "DietarySugar: 39\n",
      "DietaryVitaminC: 40\n",
      "DistanceCycling: 21\n",
      "DistanceSwimming: 60\n",
      "DistanceWalkingRunning: 201407\n",
      "FlightsClimbed: 15289\n",
      "HeartRate: 246054\n",
      "HeartRateVariabilitySDNN: 3308\n",
      "Height: 2\n",
      "RestingHeartRate: 780\n",
      "SleepAnalysis: 3822\n",
      "StepCount: 116815\n",
      "SwimmingStrokeCount: 231\n",
      "VO2Max: 172\n",
      "WalkingHeartRateAverage: 709\n",
      "\n",
      "Opening /Users/Tim/Code/GitHub/qs_ledger/apple_health/data/BloodGlucose.csv for writing\n",
      "Opening /Users/Tim/Code/GitHub/qs_ledger/apple_health/data/BodyMassIndex.csv for writing\n",
      "Opening /Users/Tim/Code/GitHub/qs_ledger/apple_health/data/Height.csv for writing\n",
      "Opening /Users/Tim/Code/GitHub/qs_ledger/apple_health/data/BodyMass.csv for writing\n",
      "Opening /Users/Tim/Code/GitHub/qs_ledger/apple_health/data/HeartRate.csv for writing\n",
      "Opening /Users/Tim/Code/GitHub/qs_ledger/apple_health/data/BodyFatPercentage.csv for writing\n",
      "Opening /Users/Tim/Code/GitHub/qs_ledger/apple_health/data/StepCount.csv for writing\n",
      "Opening /Users/Tim/Code/GitHub/qs_ledger/apple_health/data/DistanceWalkingRunning.csv for writing\n",
      "Opening /Users/Tim/Code/GitHub/qs_ledger/apple_health/data/BasalEnergyBurned.csv for writing\n",
      "Opening /Users/Tim/Code/GitHub/qs_ledger/apple_health/data/ActiveEnergyBurned.csv for writing\n",
      "Opening /Users/Tim/Code/GitHub/qs_ledger/apple_health/data/FlightsClimbed.csv for writing\n",
      "Opening /Users/Tim/Code/GitHub/qs_ledger/apple_health/data/DietaryFatTotal.csv for writing\n",
      "Opening /Users/Tim/Code/GitHub/qs_ledger/apple_health/data/DietaryFatPolyunsaturated.csv for writing\n",
      "Opening /Users/Tim/Code/GitHub/qs_ledger/apple_health/data/DietaryFatMonounsaturated.csv for writing\n",
      "Opening /Users/Tim/Code/GitHub/qs_ledger/apple_health/data/DietaryFatSaturated.csv for writing\n",
      "Opening /Users/Tim/Code/GitHub/qs_ledger/apple_health/data/DietaryCholesterol.csv for writing\n",
      "Opening /Users/Tim/Code/GitHub/qs_ledger/apple_health/data/DietarySodium.csv for writing\n",
      "Opening /Users/Tim/Code/GitHub/qs_ledger/apple_health/data/DietaryCarbohydrates.csv for writing\n",
      "Opening /Users/Tim/Code/GitHub/qs_ledger/apple_health/data/DietaryFiber.csv for writing\n",
      "Opening /Users/Tim/Code/GitHub/qs_ledger/apple_health/data/DietarySugar.csv for writing\n",
      "Opening /Users/Tim/Code/GitHub/qs_ledger/apple_health/data/DietaryEnergyConsumed.csv for writing\n",
      "Opening /Users/Tim/Code/GitHub/qs_ledger/apple_health/data/DietaryProtein.csv for writing\n",
      "Opening /Users/Tim/Code/GitHub/qs_ledger/apple_health/data/DietaryVitaminC.csv for writing\n",
      "Opening /Users/Tim/Code/GitHub/qs_ledger/apple_health/data/DietaryCalcium.csv for writing\n",
      "Opening /Users/Tim/Code/GitHub/qs_ledger/apple_health/data/DietaryIron.csv for writing\n",
      "Opening /Users/Tim/Code/GitHub/qs_ledger/apple_health/data/DietaryPotassium.csv for writing\n",
      "Opening /Users/Tim/Code/GitHub/qs_ledger/apple_health/data/AppleExerciseTime.csv for writing\n",
      "Opening /Users/Tim/Code/GitHub/qs_ledger/apple_health/data/DistanceCycling.csv for writing\n",
      "Opening /Users/Tim/Code/GitHub/qs_ledger/apple_health/data/DistanceSwimming.csv for writing\n",
      "Opening /Users/Tim/Code/GitHub/qs_ledger/apple_health/data/SwimmingStrokeCount.csv for writing\n",
      "Opening /Users/Tim/Code/GitHub/qs_ledger/apple_health/data/RestingHeartRate.csv for writing\n",
      "Opening /Users/Tim/Code/GitHub/qs_ledger/apple_health/data/VO2Max.csv for writing\n",
      "Opening /Users/Tim/Code/GitHub/qs_ledger/apple_health/data/WalkingHeartRateAverage.csv for writing\n",
      "Opening /Users/Tim/Code/GitHub/qs_ledger/apple_health/data/AppleStandTime.csv for writing\n",
      "Opening /Users/Tim/Code/GitHub/qs_ledger/apple_health/data/SleepAnalysis.csv for writing\n",
      "Opening /Users/Tim/Code/GitHub/qs_ledger/apple_health/data/AppleStandHour.csv for writing\n",
      "Opening /Users/Tim/Code/GitHub/qs_ledger/apple_health/data/HeartRateVariabilitySDNN.csv for writing\n",
      "Opening /Users/Tim/Code/GitHub/qs_ledger/apple_health/data/Workout.csv for writing\n",
      "Opening /Users/Tim/Code/GitHub/qs_ledger/apple_health/data/ActivitySummary.csv for writing\n",
      "Written BloodGlucose data.\n",
      "Written BodyMassIndex data.\n",
      "Written Height data.\n",
      "Written BodyMass data.\n",
      "Written HeartRate data.\n",
      "Written BodyFatPercentage data.\n",
      "Written StepCount data.\n",
      "Written DistanceWalkingRunning data.\n",
      "Written BasalEnergyBurned data.\n",
      "Written ActiveEnergyBurned data.\n",
      "Written FlightsClimbed data.\n",
      "Written DietaryFatTotal data.\n",
      "Written DietaryFatPolyunsaturated data.\n",
      "Written DietaryFatMonounsaturated data.\n",
      "Written DietaryFatSaturated data.\n",
      "Written DietaryCholesterol data.\n",
      "Written DietarySodium data.\n",
      "Written DietaryCarbohydrates data.\n",
      "Written DietaryFiber data.\n",
      "Written DietarySugar data.\n",
      "Written DietaryEnergyConsumed data.\n",
      "Written DietaryProtein data.\n",
      "Written DietaryVitaminC data.\n",
      "Written DietaryCalcium data.\n",
      "Written DietaryIron data.\n",
      "Written DietaryPotassium data.\n",
      "Written AppleExerciseTime data.\n",
      "Written DistanceCycling data.\n",
      "Written DistanceSwimming data.\n",
      "Written SwimmingStrokeCount data.\n",
      "Written RestingHeartRate data.\n",
      "Written VO2Max data.\n",
      "Written WalkingHeartRateAverage data.\n",
      "Written AppleStandTime data.\n",
      "Written SleepAnalysis data.\n",
      "Written AppleStandHour data.\n",
      "Written HeartRateVariabilitySDNN data.\n",
      "Written Workout data.\n",
      "Written ActivitySummary data.\n"
     ]
    }
   ],
   "source": [
    "# %run -i 'apple-health-data-parser' 'export.xml' \n",
    "%run -i 'apple-health-data-parser' 'data/export.xml' "
   ]
  },
  {
   "cell_type": "markdown",
   "metadata": {},
   "source": [
    "-----"
   ]
  },
  {
   "cell_type": "markdown",
   "metadata": {},
   "source": [
    "# Apple Health Data Check and Simple Data Analysis"
   ]
  },
  {
   "cell_type": "code",
   "execution_count": 2,
   "metadata": {},
   "outputs": [],
   "source": [
    "import numpy as np\n",
    "import pandas as pd\n",
    "import glob"
   ]
  },
  {
   "cell_type": "markdown",
   "metadata": {},
   "source": [
    "----"
   ]
  },
  {
   "cell_type": "markdown",
   "metadata": {},
   "source": [
    "# Weight"
   ]
  },
  {
   "cell_type": "code",
   "execution_count": 3,
   "metadata": {},
   "outputs": [],
   "source": [
    "weight = pd.read_csv(\"data/BodyMass.csv\")"
   ]
  },
  {
   "cell_type": "code",
   "execution_count": 4,
   "metadata": {},
   "outputs": [
    {
     "data": {
      "text/html": [
       "<div>\n",
       "<style scoped>\n",
       "    .dataframe tbody tr th:only-of-type {\n",
       "        vertical-align: middle;\n",
       "    }\n",
       "\n",
       "    .dataframe tbody tr th {\n",
       "        vertical-align: top;\n",
       "    }\n",
       "\n",
       "    .dataframe thead th {\n",
       "        text-align: right;\n",
       "    }\n",
       "</style>\n",
       "<table border=\"1\" class=\"dataframe\">\n",
       "  <thead>\n",
       "    <tr style=\"text-align: right;\">\n",
       "      <th></th>\n",
       "      <th>sourceName</th>\n",
       "      <th>sourceVersion</th>\n",
       "      <th>device</th>\n",
       "      <th>type</th>\n",
       "      <th>unit</th>\n",
       "      <th>creationDate</th>\n",
       "      <th>startDate</th>\n",
       "      <th>endDate</th>\n",
       "      <th>value</th>\n",
       "    </tr>\n",
       "  </thead>\n",
       "  <tbody>\n",
       "    <tr>\n",
       "      <th>1142</th>\n",
       "      <td>MyFitnessPal</td>\n",
       "      <td>30454</td>\n",
       "      <td>NaN</td>\n",
       "      <td>BodyMass</td>\n",
       "      <td>kg</td>\n",
       "      <td>2020-06-16 10:38:38 -0700</td>\n",
       "      <td>2020-04-14 10:38:00 -0700</td>\n",
       "      <td>2020-04-14 10:38:00 -0700</td>\n",
       "      <td>118.115</td>\n",
       "    </tr>\n",
       "    <tr>\n",
       "      <th>1143</th>\n",
       "      <td>MyFitnessPal</td>\n",
       "      <td>30454</td>\n",
       "      <td>NaN</td>\n",
       "      <td>BodyMass</td>\n",
       "      <td>kg</td>\n",
       "      <td>2020-06-16 10:38:38 -0700</td>\n",
       "      <td>2020-05-23 10:38:00 -0700</td>\n",
       "      <td>2020-05-23 10:38:00 -0700</td>\n",
       "      <td>119.658</td>\n",
       "    </tr>\n",
       "    <tr>\n",
       "      <th>1144</th>\n",
       "      <td>MyFitnessPal</td>\n",
       "      <td>30454</td>\n",
       "      <td>NaN</td>\n",
       "      <td>BodyMass</td>\n",
       "      <td>kg</td>\n",
       "      <td>2020-06-16 10:38:38 -0700</td>\n",
       "      <td>2020-05-17 10:38:00 -0700</td>\n",
       "      <td>2020-05-17 10:38:00 -0700</td>\n",
       "      <td>119.295</td>\n",
       "    </tr>\n",
       "    <tr>\n",
       "      <th>1145</th>\n",
       "      <td>MyFitnessPal</td>\n",
       "      <td>30454</td>\n",
       "      <td>NaN</td>\n",
       "      <td>BodyMass</td>\n",
       "      <td>kg</td>\n",
       "      <td>2020-06-16 10:38:38 -0700</td>\n",
       "      <td>2020-04-07 10:38:00 -0700</td>\n",
       "      <td>2020-04-07 10:38:00 -0700</td>\n",
       "      <td>118.342</td>\n",
       "    </tr>\n",
       "    <tr>\n",
       "      <th>1146</th>\n",
       "      <td>MyFitnessPal</td>\n",
       "      <td>30706</td>\n",
       "      <td>NaN</td>\n",
       "      <td>BodyMass</td>\n",
       "      <td>kg</td>\n",
       "      <td>2020-06-17 10:37:40 -0700</td>\n",
       "      <td>2020-06-15 10:37:00 -0700</td>\n",
       "      <td>2020-06-15 10:37:00 -0700</td>\n",
       "      <td>119.794</td>\n",
       "    </tr>\n",
       "  </tbody>\n",
       "</table>\n",
       "</div>"
      ],
      "text/plain": [
       "        sourceName sourceVersion  device      type unit  \\\n",
       "1142  MyFitnessPal         30454     NaN  BodyMass   kg   \n",
       "1143  MyFitnessPal         30454     NaN  BodyMass   kg   \n",
       "1144  MyFitnessPal         30454     NaN  BodyMass   kg   \n",
       "1145  MyFitnessPal         30454     NaN  BodyMass   kg   \n",
       "1146  MyFitnessPal         30706     NaN  BodyMass   kg   \n",
       "\n",
       "                   creationDate                  startDate  \\\n",
       "1142  2020-06-16 10:38:38 -0700  2020-04-14 10:38:00 -0700   \n",
       "1143  2020-06-16 10:38:38 -0700  2020-05-23 10:38:00 -0700   \n",
       "1144  2020-06-16 10:38:38 -0700  2020-05-17 10:38:00 -0700   \n",
       "1145  2020-06-16 10:38:38 -0700  2020-04-07 10:38:00 -0700   \n",
       "1146  2020-06-17 10:37:40 -0700  2020-06-15 10:37:00 -0700   \n",
       "\n",
       "                        endDate    value  \n",
       "1142  2020-04-14 10:38:00 -0700  118.115  \n",
       "1143  2020-05-23 10:38:00 -0700  119.658  \n",
       "1144  2020-05-17 10:38:00 -0700  119.295  \n",
       "1145  2020-04-07 10:38:00 -0700  118.342  \n",
       "1146  2020-06-15 10:37:00 -0700  119.794  "
      ]
     },
     "execution_count": 4,
     "metadata": {},
     "output_type": "execute_result"
    }
   ],
   "source": [
    "weight.tail()"
   ]
  },
  {
   "cell_type": "code",
   "execution_count": 5,
   "metadata": {},
   "outputs": [
    {
     "data": {
      "text/html": [
       "<div>\n",
       "<style scoped>\n",
       "    .dataframe tbody tr th:only-of-type {\n",
       "        vertical-align: middle;\n",
       "    }\n",
       "\n",
       "    .dataframe tbody tr th {\n",
       "        vertical-align: top;\n",
       "    }\n",
       "\n",
       "    .dataframe thead th {\n",
       "        text-align: right;\n",
       "    }\n",
       "</style>\n",
       "<table border=\"1\" class=\"dataframe\">\n",
       "  <thead>\n",
       "    <tr style=\"text-align: right;\">\n",
       "      <th></th>\n",
       "      <th>device</th>\n",
       "      <th>value</th>\n",
       "    </tr>\n",
       "  </thead>\n",
       "  <tbody>\n",
       "    <tr>\n",
       "      <th>count</th>\n",
       "      <td>0.0</td>\n",
       "      <td>1147.000000</td>\n",
       "    </tr>\n",
       "    <tr>\n",
       "      <th>mean</th>\n",
       "      <td>NaN</td>\n",
       "      <td>112.365082</td>\n",
       "    </tr>\n",
       "    <tr>\n",
       "      <th>std</th>\n",
       "      <td>NaN</td>\n",
       "      <td>3.354843</td>\n",
       "    </tr>\n",
       "    <tr>\n",
       "      <th>min</th>\n",
       "      <td>NaN</td>\n",
       "      <td>98.884000</td>\n",
       "    </tr>\n",
       "    <tr>\n",
       "      <th>25%</th>\n",
       "      <td>NaN</td>\n",
       "      <td>110.936000</td>\n",
       "    </tr>\n",
       "    <tr>\n",
       "      <th>50%</th>\n",
       "      <td>NaN</td>\n",
       "      <td>113.730000</td>\n",
       "    </tr>\n",
       "    <tr>\n",
       "      <th>75%</th>\n",
       "      <td>NaN</td>\n",
       "      <td>114.509000</td>\n",
       "    </tr>\n",
       "    <tr>\n",
       "      <th>max</th>\n",
       "      <td>NaN</td>\n",
       "      <td>120.429000</td>\n",
       "    </tr>\n",
       "  </tbody>\n",
       "</table>\n",
       "</div>"
      ],
      "text/plain": [
       "       device        value\n",
       "count     0.0  1147.000000\n",
       "mean      NaN   112.365082\n",
       "std       NaN     3.354843\n",
       "min       NaN    98.884000\n",
       "25%       NaN   110.936000\n",
       "50%       NaN   113.730000\n",
       "75%       NaN   114.509000\n",
       "max       NaN   120.429000"
      ]
     },
     "execution_count": 5,
     "metadata": {},
     "output_type": "execute_result"
    }
   ],
   "source": [
    "weight.describe()"
   ]
  },
  {
   "cell_type": "markdown",
   "metadata": {},
   "source": [
    "----"
   ]
  },
  {
   "cell_type": "markdown",
   "metadata": {},
   "source": [
    "## Steps"
   ]
  },
  {
   "cell_type": "code",
   "execution_count": 6,
   "metadata": {},
   "outputs": [],
   "source": [
    "steps = pd.read_csv(\"data/StepCount.csv\")"
   ]
  },
  {
   "cell_type": "code",
   "execution_count": 7,
   "metadata": {},
   "outputs": [
    {
     "data": {
      "text/plain": [
       "116815"
      ]
     },
     "execution_count": 7,
     "metadata": {},
     "output_type": "execute_result"
    }
   ],
   "source": [
    "len(steps)"
   ]
  },
  {
   "cell_type": "code",
   "execution_count": 8,
   "metadata": {},
   "outputs": [
    {
     "data": {
      "text/plain": [
       "Index(['sourceName', 'sourceVersion', 'device', 'type', 'unit', 'creationDate',\n",
       "       'startDate', 'endDate', 'value'],\n",
       "      dtype='object')"
      ]
     },
     "execution_count": 8,
     "metadata": {},
     "output_type": "execute_result"
    }
   ],
   "source": [
    "steps.columns"
   ]
  },
  {
   "cell_type": "code",
   "execution_count": 9,
   "metadata": {},
   "outputs": [
    {
     "data": {
      "text/html": [
       "<div>\n",
       "<style scoped>\n",
       "    .dataframe tbody tr th:only-of-type {\n",
       "        vertical-align: middle;\n",
       "    }\n",
       "\n",
       "    .dataframe tbody tr th {\n",
       "        vertical-align: top;\n",
       "    }\n",
       "\n",
       "    .dataframe thead th {\n",
       "        text-align: right;\n",
       "    }\n",
       "</style>\n",
       "<table border=\"1\" class=\"dataframe\">\n",
       "  <thead>\n",
       "    <tr style=\"text-align: right;\">\n",
       "      <th></th>\n",
       "      <th>value</th>\n",
       "    </tr>\n",
       "  </thead>\n",
       "  <tbody>\n",
       "    <tr>\n",
       "      <th>count</th>\n",
       "      <td>116815.000000</td>\n",
       "    </tr>\n",
       "    <tr>\n",
       "      <th>mean</th>\n",
       "      <td>213.650011</td>\n",
       "    </tr>\n",
       "    <tr>\n",
       "      <th>std</th>\n",
       "      <td>1052.622587</td>\n",
       "    </tr>\n",
       "    <tr>\n",
       "      <th>min</th>\n",
       "      <td>1.000000</td>\n",
       "    </tr>\n",
       "    <tr>\n",
       "      <th>25%</th>\n",
       "      <td>23.000000</td>\n",
       "    </tr>\n",
       "    <tr>\n",
       "      <th>50%</th>\n",
       "      <td>64.000000</td>\n",
       "    </tr>\n",
       "    <tr>\n",
       "      <th>75%</th>\n",
       "      <td>185.000000</td>\n",
       "    </tr>\n",
       "    <tr>\n",
       "      <th>max</th>\n",
       "      <td>52800.000000</td>\n",
       "    </tr>\n",
       "  </tbody>\n",
       "</table>\n",
       "</div>"
      ],
      "text/plain": [
       "               value\n",
       "count  116815.000000\n",
       "mean      213.650011\n",
       "std      1052.622587\n",
       "min         1.000000\n",
       "25%        23.000000\n",
       "50%        64.000000\n",
       "75%       185.000000\n",
       "max     52800.000000"
      ]
     },
     "execution_count": 9,
     "metadata": {},
     "output_type": "execute_result"
    }
   ],
   "source": [
    "steps.describe()"
   ]
  },
  {
   "cell_type": "code",
   "execution_count": 10,
   "metadata": {},
   "outputs": [
    {
     "data": {
      "text/html": [
       "<div>\n",
       "<style scoped>\n",
       "    .dataframe tbody tr th:only-of-type {\n",
       "        vertical-align: middle;\n",
       "    }\n",
       "\n",
       "    .dataframe tbody tr th {\n",
       "        vertical-align: top;\n",
       "    }\n",
       "\n",
       "    .dataframe thead th {\n",
       "        text-align: right;\n",
       "    }\n",
       "</style>\n",
       "<table border=\"1\" class=\"dataframe\">\n",
       "  <thead>\n",
       "    <tr style=\"text-align: right;\">\n",
       "      <th></th>\n",
       "      <th>sourceName</th>\n",
       "      <th>sourceVersion</th>\n",
       "      <th>device</th>\n",
       "      <th>type</th>\n",
       "      <th>unit</th>\n",
       "      <th>creationDate</th>\n",
       "      <th>startDate</th>\n",
       "      <th>endDate</th>\n",
       "      <th>value</th>\n",
       "    </tr>\n",
       "  </thead>\n",
       "  <tbody>\n",
       "    <tr>\n",
       "      <th>116810</th>\n",
       "      <td>Timothy’s Apple Watch</td>\n",
       "      <td>6.2.5</td>\n",
       "      <td>&lt;&lt;HKDevice: 0x280d19590&gt;, name:Apple Watch, ma...</td>\n",
       "      <td>StepCount</td>\n",
       "      <td>count</td>\n",
       "      <td>2020-06-18 05:51:36 -0700</td>\n",
       "      <td>2020-06-18 05:37:03 -0700</td>\n",
       "      <td>2020-06-18 05:37:08 -0700</td>\n",
       "      <td>20</td>\n",
       "    </tr>\n",
       "    <tr>\n",
       "      <th>116811</th>\n",
       "      <td>Tim’s iPhone 11 Pro</td>\n",
       "      <td>13.5.1</td>\n",
       "      <td>&lt;&lt;HKDevice: 0x280d195e0&gt;, name:iPhone, manufac...</td>\n",
       "      <td>StepCount</td>\n",
       "      <td>count</td>\n",
       "      <td>2020-06-18 06:07:13 -0700</td>\n",
       "      <td>2020-06-18 06:03:38 -0700</td>\n",
       "      <td>2020-06-18 06:03:41 -0700</td>\n",
       "      <td>16</td>\n",
       "    </tr>\n",
       "    <tr>\n",
       "      <th>116812</th>\n",
       "      <td>Tim’s iPhone 11 Pro</td>\n",
       "      <td>13.5.1</td>\n",
       "      <td>&lt;&lt;HKDevice: 0x280d19680&gt;, name:iPhone, manufac...</td>\n",
       "      <td>StepCount</td>\n",
       "      <td>count</td>\n",
       "      <td>2020-06-18 06:07:13 -0700</td>\n",
       "      <td>2020-06-18 06:03:56 -0700</td>\n",
       "      <td>2020-06-18 06:04:01 -0700</td>\n",
       "      <td>12</td>\n",
       "    </tr>\n",
       "    <tr>\n",
       "      <th>116813</th>\n",
       "      <td>Tim’s iPhone 11 Pro</td>\n",
       "      <td>13.5.1</td>\n",
       "      <td>&lt;&lt;HKDevice: 0x280d19720&gt;, name:iPhone, manufac...</td>\n",
       "      <td>StepCount</td>\n",
       "      <td>count</td>\n",
       "      <td>2020-06-18 06:07:56 -0700</td>\n",
       "      <td>2020-06-18 06:07:49 -0700</td>\n",
       "      <td>2020-06-18 06:07:51 -0700</td>\n",
       "      <td>13</td>\n",
       "    </tr>\n",
       "    <tr>\n",
       "      <th>116814</th>\n",
       "      <td>Tim’s iPhone 11 Pro</td>\n",
       "      <td>13.5.1</td>\n",
       "      <td>&lt;&lt;HKDevice: 0x280d197c0&gt;, name:iPhone, manufac...</td>\n",
       "      <td>StepCount</td>\n",
       "      <td>count</td>\n",
       "      <td>2020-06-18 06:08:02 -0700</td>\n",
       "      <td>2020-06-18 06:07:54 -0700</td>\n",
       "      <td>2020-06-18 06:07:57 -0700</td>\n",
       "      <td>3</td>\n",
       "    </tr>\n",
       "  </tbody>\n",
       "</table>\n",
       "</div>"
      ],
      "text/plain": [
       "                   sourceName sourceVersion  \\\n",
       "116810  Timothy’s Apple Watch         6.2.5   \n",
       "116811    Tim’s iPhone 11 Pro        13.5.1   \n",
       "116812    Tim’s iPhone 11 Pro        13.5.1   \n",
       "116813    Tim’s iPhone 11 Pro        13.5.1   \n",
       "116814    Tim’s iPhone 11 Pro        13.5.1   \n",
       "\n",
       "                                                   device       type   unit  \\\n",
       "116810  <<HKDevice: 0x280d19590>, name:Apple Watch, ma...  StepCount  count   \n",
       "116811  <<HKDevice: 0x280d195e0>, name:iPhone, manufac...  StepCount  count   \n",
       "116812  <<HKDevice: 0x280d19680>, name:iPhone, manufac...  StepCount  count   \n",
       "116813  <<HKDevice: 0x280d19720>, name:iPhone, manufac...  StepCount  count   \n",
       "116814  <<HKDevice: 0x280d197c0>, name:iPhone, manufac...  StepCount  count   \n",
       "\n",
       "                     creationDate                  startDate  \\\n",
       "116810  2020-06-18 05:51:36 -0700  2020-06-18 05:37:03 -0700   \n",
       "116811  2020-06-18 06:07:13 -0700  2020-06-18 06:03:38 -0700   \n",
       "116812  2020-06-18 06:07:13 -0700  2020-06-18 06:03:56 -0700   \n",
       "116813  2020-06-18 06:07:56 -0700  2020-06-18 06:07:49 -0700   \n",
       "116814  2020-06-18 06:08:02 -0700  2020-06-18 06:07:54 -0700   \n",
       "\n",
       "                          endDate  value  \n",
       "116810  2020-06-18 05:37:08 -0700     20  \n",
       "116811  2020-06-18 06:03:41 -0700     16  \n",
       "116812  2020-06-18 06:04:01 -0700     12  \n",
       "116813  2020-06-18 06:07:51 -0700     13  \n",
       "116814  2020-06-18 06:07:57 -0700      3  "
      ]
     },
     "execution_count": 10,
     "metadata": {},
     "output_type": "execute_result"
    }
   ],
   "source": [
    "steps.tail()"
   ]
  },
  {
   "cell_type": "code",
   "execution_count": 11,
   "metadata": {},
   "outputs": [
    {
     "data": {
      "text/plain": [
       "24957526"
      ]
     },
     "execution_count": 11,
     "metadata": {},
     "output_type": "execute_result"
    }
   ],
   "source": [
    "# total all-time steps\n",
    "steps.value.sum()"
   ]
  },
  {
   "cell_type": "markdown",
   "metadata": {},
   "source": [
    "-------"
   ]
  },
  {
   "cell_type": "markdown",
   "metadata": {},
   "source": [
    "## Stand Count"
   ]
  },
  {
   "cell_type": "code",
   "execution_count": 12,
   "metadata": {},
   "outputs": [],
   "source": [
    "stand = pd.read_csv(\"data/AppleStandHour.csv\")"
   ]
  },
  {
   "cell_type": "code",
   "execution_count": 13,
   "metadata": {},
   "outputs": [
    {
     "data": {
      "text/plain": [
       "17515"
      ]
     },
     "execution_count": 13,
     "metadata": {},
     "output_type": "execute_result"
    }
   ],
   "source": [
    "len(stand)"
   ]
  },
  {
   "cell_type": "code",
   "execution_count": 14,
   "metadata": {},
   "outputs": [
    {
     "data": {
      "text/plain": [
       "Index(['sourceName', 'sourceVersion', 'device', 'type', 'unit', 'creationDate',\n",
       "       'startDate', 'endDate', 'value'],\n",
       "      dtype='object')"
      ]
     },
     "execution_count": 14,
     "metadata": {},
     "output_type": "execute_result"
    }
   ],
   "source": [
    "stand.columns"
   ]
  },
  {
   "cell_type": "code",
   "execution_count": 15,
   "metadata": {},
   "outputs": [
    {
     "data": {
      "text/html": [
       "<div>\n",
       "<style scoped>\n",
       "    .dataframe tbody tr th:only-of-type {\n",
       "        vertical-align: middle;\n",
       "    }\n",
       "\n",
       "    .dataframe tbody tr th {\n",
       "        vertical-align: top;\n",
       "    }\n",
       "\n",
       "    .dataframe thead th {\n",
       "        text-align: right;\n",
       "    }\n",
       "</style>\n",
       "<table border=\"1\" class=\"dataframe\">\n",
       "  <thead>\n",
       "    <tr style=\"text-align: right;\">\n",
       "      <th></th>\n",
       "      <th>unit</th>\n",
       "    </tr>\n",
       "  </thead>\n",
       "  <tbody>\n",
       "    <tr>\n",
       "      <th>count</th>\n",
       "      <td>0.0</td>\n",
       "    </tr>\n",
       "    <tr>\n",
       "      <th>mean</th>\n",
       "      <td>NaN</td>\n",
       "    </tr>\n",
       "    <tr>\n",
       "      <th>std</th>\n",
       "      <td>NaN</td>\n",
       "    </tr>\n",
       "    <tr>\n",
       "      <th>min</th>\n",
       "      <td>NaN</td>\n",
       "    </tr>\n",
       "    <tr>\n",
       "      <th>25%</th>\n",
       "      <td>NaN</td>\n",
       "    </tr>\n",
       "    <tr>\n",
       "      <th>50%</th>\n",
       "      <td>NaN</td>\n",
       "    </tr>\n",
       "    <tr>\n",
       "      <th>75%</th>\n",
       "      <td>NaN</td>\n",
       "    </tr>\n",
       "    <tr>\n",
       "      <th>max</th>\n",
       "      <td>NaN</td>\n",
       "    </tr>\n",
       "  </tbody>\n",
       "</table>\n",
       "</div>"
      ],
      "text/plain": [
       "       unit\n",
       "count   0.0\n",
       "mean    NaN\n",
       "std     NaN\n",
       "min     NaN\n",
       "25%     NaN\n",
       "50%     NaN\n",
       "75%     NaN\n",
       "max     NaN"
      ]
     },
     "execution_count": 15,
     "metadata": {},
     "output_type": "execute_result"
    }
   ],
   "source": [
    "stand.describe()"
   ]
  },
  {
   "cell_type": "code",
   "execution_count": 16,
   "metadata": {},
   "outputs": [
    {
     "data": {
      "text/html": [
       "<div>\n",
       "<style scoped>\n",
       "    .dataframe tbody tr th:only-of-type {\n",
       "        vertical-align: middle;\n",
       "    }\n",
       "\n",
       "    .dataframe tbody tr th {\n",
       "        vertical-align: top;\n",
       "    }\n",
       "\n",
       "    .dataframe thead th {\n",
       "        text-align: right;\n",
       "    }\n",
       "</style>\n",
       "<table border=\"1\" class=\"dataframe\">\n",
       "  <thead>\n",
       "    <tr style=\"text-align: right;\">\n",
       "      <th></th>\n",
       "      <th>sourceName</th>\n",
       "      <th>sourceVersion</th>\n",
       "      <th>device</th>\n",
       "      <th>type</th>\n",
       "      <th>unit</th>\n",
       "      <th>creationDate</th>\n",
       "      <th>startDate</th>\n",
       "      <th>endDate</th>\n",
       "      <th>value</th>\n",
       "    </tr>\n",
       "  </thead>\n",
       "  <tbody>\n",
       "    <tr>\n",
       "      <th>17510</th>\n",
       "      <td>Timothy’s Apple Watch</td>\n",
       "      <td>6.2.5</td>\n",
       "      <td>&lt;&lt;HKDevice: 0x28096b110&gt;, name:Apple Watch, ma...</td>\n",
       "      <td>AppleStandHour</td>\n",
       "      <td>NaN</td>\n",
       "      <td>2020-06-18 03:00:25 -0700</td>\n",
       "      <td>2020-06-18 02:00:00 -0700</td>\n",
       "      <td>2020-06-18 03:00:00 -0700</td>\n",
       "      <td>HKCategoryValueAppleStandHourIdle</td>\n",
       "    </tr>\n",
       "    <tr>\n",
       "      <th>17511</th>\n",
       "      <td>Timothy’s Apple Watch</td>\n",
       "      <td>6.2.5</td>\n",
       "      <td>&lt;&lt;HKDevice: 0x28096b200&gt;, name:Apple Watch, ma...</td>\n",
       "      <td>AppleStandHour</td>\n",
       "      <td>NaN</td>\n",
       "      <td>2020-06-18 04:04:53 -0700</td>\n",
       "      <td>2020-06-18 03:00:00 -0700</td>\n",
       "      <td>2020-06-18 04:00:00 -0700</td>\n",
       "      <td>HKCategoryValueAppleStandHourIdle</td>\n",
       "    </tr>\n",
       "    <tr>\n",
       "      <th>17512</th>\n",
       "      <td>Timothy’s Apple Watch</td>\n",
       "      <td>6.2.5</td>\n",
       "      <td>&lt;&lt;HKDevice: 0x28096b2f0&gt;, name:Apple Watch, ma...</td>\n",
       "      <td>AppleStandHour</td>\n",
       "      <td>NaN</td>\n",
       "      <td>2020-06-18 05:00:16 -0700</td>\n",
       "      <td>2020-06-18 04:00:00 -0700</td>\n",
       "      <td>2020-06-18 05:00:00 -0700</td>\n",
       "      <td>HKCategoryValueAppleStandHourIdle</td>\n",
       "    </tr>\n",
       "    <tr>\n",
       "      <th>17513</th>\n",
       "      <td>Timothy’s Apple Watch</td>\n",
       "      <td>6.2.5</td>\n",
       "      <td>&lt;&lt;HKDevice: 0x28096b3e0&gt;, name:Apple Watch, ma...</td>\n",
       "      <td>AppleStandHour</td>\n",
       "      <td>NaN</td>\n",
       "      <td>2020-06-18 05:17:04 -0700</td>\n",
       "      <td>2020-06-18 05:00:00 -0700</td>\n",
       "      <td>2020-06-18 06:00:00 -0700</td>\n",
       "      <td>HKCategoryValueAppleStandHourStood</td>\n",
       "    </tr>\n",
       "    <tr>\n",
       "      <th>17514</th>\n",
       "      <td>Timothy’s Apple Watch</td>\n",
       "      <td>6.2.5</td>\n",
       "      <td>&lt;&lt;HKDevice: 0x28096b4d0&gt;, name:Apple Watch, ma...</td>\n",
       "      <td>AppleStandHour</td>\n",
       "      <td>NaN</td>\n",
       "      <td>2020-06-18 06:05:34 -0700</td>\n",
       "      <td>2020-06-18 06:00:00 -0700</td>\n",
       "      <td>2020-06-18 07:00:00 -0700</td>\n",
       "      <td>HKCategoryValueAppleStandHourStood</td>\n",
       "    </tr>\n",
       "  </tbody>\n",
       "</table>\n",
       "</div>"
      ],
      "text/plain": [
       "                  sourceName sourceVersion  \\\n",
       "17510  Timothy’s Apple Watch         6.2.5   \n",
       "17511  Timothy’s Apple Watch         6.2.5   \n",
       "17512  Timothy’s Apple Watch         6.2.5   \n",
       "17513  Timothy’s Apple Watch         6.2.5   \n",
       "17514  Timothy’s Apple Watch         6.2.5   \n",
       "\n",
       "                                                  device            type  \\\n",
       "17510  <<HKDevice: 0x28096b110>, name:Apple Watch, ma...  AppleStandHour   \n",
       "17511  <<HKDevice: 0x28096b200>, name:Apple Watch, ma...  AppleStandHour   \n",
       "17512  <<HKDevice: 0x28096b2f0>, name:Apple Watch, ma...  AppleStandHour   \n",
       "17513  <<HKDevice: 0x28096b3e0>, name:Apple Watch, ma...  AppleStandHour   \n",
       "17514  <<HKDevice: 0x28096b4d0>, name:Apple Watch, ma...  AppleStandHour   \n",
       "\n",
       "       unit               creationDate                  startDate  \\\n",
       "17510   NaN  2020-06-18 03:00:25 -0700  2020-06-18 02:00:00 -0700   \n",
       "17511   NaN  2020-06-18 04:04:53 -0700  2020-06-18 03:00:00 -0700   \n",
       "17512   NaN  2020-06-18 05:00:16 -0700  2020-06-18 04:00:00 -0700   \n",
       "17513   NaN  2020-06-18 05:17:04 -0700  2020-06-18 05:00:00 -0700   \n",
       "17514   NaN  2020-06-18 06:05:34 -0700  2020-06-18 06:00:00 -0700   \n",
       "\n",
       "                         endDate                               value  \n",
       "17510  2020-06-18 03:00:00 -0700   HKCategoryValueAppleStandHourIdle  \n",
       "17511  2020-06-18 04:00:00 -0700   HKCategoryValueAppleStandHourIdle  \n",
       "17512  2020-06-18 05:00:00 -0700   HKCategoryValueAppleStandHourIdle  \n",
       "17513  2020-06-18 06:00:00 -0700  HKCategoryValueAppleStandHourStood  \n",
       "17514  2020-06-18 07:00:00 -0700  HKCategoryValueAppleStandHourStood  "
      ]
     },
     "execution_count": 16,
     "metadata": {},
     "output_type": "execute_result"
    }
   ],
   "source": [
    "stand.tail()"
   ]
  },
  {
   "cell_type": "markdown",
   "metadata": {},
   "source": [
    "------"
   ]
  },
  {
   "cell_type": "markdown",
   "metadata": {},
   "source": [
    "## Resting Heart Rate (HR)"
   ]
  },
  {
   "cell_type": "code",
   "execution_count": 17,
   "metadata": {},
   "outputs": [],
   "source": [
    "restingHR = pd.read_csv(\"data/RestingHeartRate.csv\")"
   ]
  },
  {
   "cell_type": "code",
   "execution_count": 18,
   "metadata": {},
   "outputs": [
    {
     "data": {
      "text/plain": [
       "780"
      ]
     },
     "execution_count": 18,
     "metadata": {},
     "output_type": "execute_result"
    }
   ],
   "source": [
    "len(restingHR)"
   ]
  },
  {
   "cell_type": "code",
   "execution_count": 19,
   "metadata": {},
   "outputs": [
    {
     "data": {
      "text/html": [
       "<div>\n",
       "<style scoped>\n",
       "    .dataframe tbody tr th:only-of-type {\n",
       "        vertical-align: middle;\n",
       "    }\n",
       "\n",
       "    .dataframe tbody tr th {\n",
       "        vertical-align: top;\n",
       "    }\n",
       "\n",
       "    .dataframe thead th {\n",
       "        text-align: right;\n",
       "    }\n",
       "</style>\n",
       "<table border=\"1\" class=\"dataframe\">\n",
       "  <thead>\n",
       "    <tr style=\"text-align: right;\">\n",
       "      <th></th>\n",
       "      <th>device</th>\n",
       "      <th>value</th>\n",
       "    </tr>\n",
       "  </thead>\n",
       "  <tbody>\n",
       "    <tr>\n",
       "      <th>count</th>\n",
       "      <td>0.0</td>\n",
       "      <td>780.000000</td>\n",
       "    </tr>\n",
       "    <tr>\n",
       "      <th>mean</th>\n",
       "      <td>NaN</td>\n",
       "      <td>70.726923</td>\n",
       "    </tr>\n",
       "    <tr>\n",
       "      <th>std</th>\n",
       "      <td>NaN</td>\n",
       "      <td>3.851018</td>\n",
       "    </tr>\n",
       "    <tr>\n",
       "      <th>min</th>\n",
       "      <td>NaN</td>\n",
       "      <td>61.000000</td>\n",
       "    </tr>\n",
       "    <tr>\n",
       "      <th>25%</th>\n",
       "      <td>NaN</td>\n",
       "      <td>68.000000</td>\n",
       "    </tr>\n",
       "    <tr>\n",
       "      <th>50%</th>\n",
       "      <td>NaN</td>\n",
       "      <td>71.000000</td>\n",
       "    </tr>\n",
       "    <tr>\n",
       "      <th>75%</th>\n",
       "      <td>NaN</td>\n",
       "      <td>73.000000</td>\n",
       "    </tr>\n",
       "    <tr>\n",
       "      <th>max</th>\n",
       "      <td>NaN</td>\n",
       "      <td>85.000000</td>\n",
       "    </tr>\n",
       "  </tbody>\n",
       "</table>\n",
       "</div>"
      ],
      "text/plain": [
       "       device       value\n",
       "count     0.0  780.000000\n",
       "mean      NaN   70.726923\n",
       "std       NaN    3.851018\n",
       "min       NaN   61.000000\n",
       "25%       NaN   68.000000\n",
       "50%       NaN   71.000000\n",
       "75%       NaN   73.000000\n",
       "max       NaN   85.000000"
      ]
     },
     "execution_count": 19,
     "metadata": {},
     "output_type": "execute_result"
    }
   ],
   "source": [
    "restingHR.describe()"
   ]
  },
  {
   "cell_type": "markdown",
   "metadata": {},
   "source": [
    "---"
   ]
  },
  {
   "cell_type": "markdown",
   "metadata": {},
   "source": [
    "## Walking Heart Rate (HR) Average"
   ]
  },
  {
   "cell_type": "code",
   "execution_count": 20,
   "metadata": {},
   "outputs": [],
   "source": [
    "walkingHR = pd.read_csv(\"data/WalkingHeartRateAverage.csv\")"
   ]
  },
  {
   "cell_type": "code",
   "execution_count": 21,
   "metadata": {},
   "outputs": [
    {
     "data": {
      "text/plain": [
       "709"
      ]
     },
     "execution_count": 21,
     "metadata": {},
     "output_type": "execute_result"
    }
   ],
   "source": [
    "len(walkingHR)"
   ]
  },
  {
   "cell_type": "code",
   "execution_count": 22,
   "metadata": {},
   "outputs": [
    {
     "data": {
      "text/html": [
       "<div>\n",
       "<style scoped>\n",
       "    .dataframe tbody tr th:only-of-type {\n",
       "        vertical-align: middle;\n",
       "    }\n",
       "\n",
       "    .dataframe tbody tr th {\n",
       "        vertical-align: top;\n",
       "    }\n",
       "\n",
       "    .dataframe thead th {\n",
       "        text-align: right;\n",
       "    }\n",
       "</style>\n",
       "<table border=\"1\" class=\"dataframe\">\n",
       "  <thead>\n",
       "    <tr style=\"text-align: right;\">\n",
       "      <th></th>\n",
       "      <th>device</th>\n",
       "      <th>value</th>\n",
       "    </tr>\n",
       "  </thead>\n",
       "  <tbody>\n",
       "    <tr>\n",
       "      <th>count</th>\n",
       "      <td>0.0</td>\n",
       "      <td>709.000000</td>\n",
       "    </tr>\n",
       "    <tr>\n",
       "      <th>mean</th>\n",
       "      <td>NaN</td>\n",
       "      <td>98.569111</td>\n",
       "    </tr>\n",
       "    <tr>\n",
       "      <th>std</th>\n",
       "      <td>NaN</td>\n",
       "      <td>8.296297</td>\n",
       "    </tr>\n",
       "    <tr>\n",
       "      <th>min</th>\n",
       "      <td>NaN</td>\n",
       "      <td>70.000000</td>\n",
       "    </tr>\n",
       "    <tr>\n",
       "      <th>25%</th>\n",
       "      <td>NaN</td>\n",
       "      <td>93.500000</td>\n",
       "    </tr>\n",
       "    <tr>\n",
       "      <th>50%</th>\n",
       "      <td>NaN</td>\n",
       "      <td>98.000000</td>\n",
       "    </tr>\n",
       "    <tr>\n",
       "      <th>75%</th>\n",
       "      <td>NaN</td>\n",
       "      <td>103.000000</td>\n",
       "    </tr>\n",
       "    <tr>\n",
       "      <th>max</th>\n",
       "      <td>NaN</td>\n",
       "      <td>138.000000</td>\n",
       "    </tr>\n",
       "  </tbody>\n",
       "</table>\n",
       "</div>"
      ],
      "text/plain": [
       "       device       value\n",
       "count     0.0  709.000000\n",
       "mean      NaN   98.569111\n",
       "std       NaN    8.296297\n",
       "min       NaN   70.000000\n",
       "25%       NaN   93.500000\n",
       "50%       NaN   98.000000\n",
       "75%       NaN  103.000000\n",
       "max       NaN  138.000000"
      ]
     },
     "execution_count": 22,
     "metadata": {},
     "output_type": "execute_result"
    }
   ],
   "source": [
    "walkingHR.describe()"
   ]
  },
  {
   "cell_type": "markdown",
   "metadata": {},
   "source": [
    "---"
   ]
  },
  {
   "cell_type": "markdown",
   "metadata": {},
   "source": [
    "## Heart Rate Variability (HRV)"
   ]
  },
  {
   "cell_type": "code",
   "execution_count": 23,
   "metadata": {},
   "outputs": [],
   "source": [
    "hrv = pd.read_csv(\"data/HeartRateVariabilitySDNN.csv\")"
   ]
  },
  {
   "cell_type": "code",
   "execution_count": 24,
   "metadata": {},
   "outputs": [
    {
     "data": {
      "text/plain": [
       "3308"
      ]
     },
     "execution_count": 24,
     "metadata": {},
     "output_type": "execute_result"
    }
   ],
   "source": [
    "len(hrv)"
   ]
  },
  {
   "cell_type": "code",
   "execution_count": 25,
   "metadata": {},
   "outputs": [
    {
     "data": {
      "text/plain": [
       "Index(['sourceName', 'sourceVersion', 'device', 'type', 'unit', 'creationDate',\n",
       "       'startDate', 'endDate', 'value'],\n",
       "      dtype='object')"
      ]
     },
     "execution_count": 25,
     "metadata": {},
     "output_type": "execute_result"
    }
   ],
   "source": [
    "hrv.columns"
   ]
  },
  {
   "cell_type": "code",
   "execution_count": 26,
   "metadata": {},
   "outputs": [
    {
     "data": {
      "text/html": [
       "<div>\n",
       "<style scoped>\n",
       "    .dataframe tbody tr th:only-of-type {\n",
       "        vertical-align: middle;\n",
       "    }\n",
       "\n",
       "    .dataframe tbody tr th {\n",
       "        vertical-align: top;\n",
       "    }\n",
       "\n",
       "    .dataframe thead th {\n",
       "        text-align: right;\n",
       "    }\n",
       "</style>\n",
       "<table border=\"1\" class=\"dataframe\">\n",
       "  <thead>\n",
       "    <tr style=\"text-align: right;\">\n",
       "      <th></th>\n",
       "      <th>value</th>\n",
       "    </tr>\n",
       "  </thead>\n",
       "  <tbody>\n",
       "    <tr>\n",
       "      <th>count</th>\n",
       "      <td>3308.000000</td>\n",
       "    </tr>\n",
       "    <tr>\n",
       "      <th>mean</th>\n",
       "      <td>16.644383</td>\n",
       "    </tr>\n",
       "    <tr>\n",
       "      <th>std</th>\n",
       "      <td>8.494159</td>\n",
       "    </tr>\n",
       "    <tr>\n",
       "      <th>min</th>\n",
       "      <td>3.579460</td>\n",
       "    </tr>\n",
       "    <tr>\n",
       "      <th>25%</th>\n",
       "      <td>11.194300</td>\n",
       "    </tr>\n",
       "    <tr>\n",
       "      <th>50%</th>\n",
       "      <td>14.852400</td>\n",
       "    </tr>\n",
       "    <tr>\n",
       "      <th>75%</th>\n",
       "      <td>19.807675</td>\n",
       "    </tr>\n",
       "    <tr>\n",
       "      <th>max</th>\n",
       "      <td>85.626000</td>\n",
       "    </tr>\n",
       "  </tbody>\n",
       "</table>\n",
       "</div>"
      ],
      "text/plain": [
       "             value\n",
       "count  3308.000000\n",
       "mean     16.644383\n",
       "std       8.494159\n",
       "min       3.579460\n",
       "25%      11.194300\n",
       "50%      14.852400\n",
       "75%      19.807675\n",
       "max      85.626000"
      ]
     },
     "execution_count": 26,
     "metadata": {},
     "output_type": "execute_result"
    }
   ],
   "source": [
    "hrv.describe()"
   ]
  },
  {
   "cell_type": "code",
   "execution_count": 27,
   "metadata": {},
   "outputs": [
    {
     "data": {
      "text/html": [
       "<div>\n",
       "<style scoped>\n",
       "    .dataframe tbody tr th:only-of-type {\n",
       "        vertical-align: middle;\n",
       "    }\n",
       "\n",
       "    .dataframe tbody tr th {\n",
       "        vertical-align: top;\n",
       "    }\n",
       "\n",
       "    .dataframe thead th {\n",
       "        text-align: right;\n",
       "    }\n",
       "</style>\n",
       "<table border=\"1\" class=\"dataframe\">\n",
       "  <thead>\n",
       "    <tr style=\"text-align: right;\">\n",
       "      <th></th>\n",
       "      <th>sourceName</th>\n",
       "      <th>sourceVersion</th>\n",
       "      <th>device</th>\n",
       "      <th>type</th>\n",
       "      <th>unit</th>\n",
       "      <th>creationDate</th>\n",
       "      <th>startDate</th>\n",
       "      <th>endDate</th>\n",
       "      <th>value</th>\n",
       "    </tr>\n",
       "  </thead>\n",
       "  <tbody>\n",
       "    <tr>\n",
       "      <th>3303</th>\n",
       "      <td>Timothy’s Apple Watch</td>\n",
       "      <td>6.2.5</td>\n",
       "      <td>&lt;&lt;HKDevice: 0x28089f8e0&gt;, name:Apple Watch, ma...</td>\n",
       "      <td>HeartRateVariabilitySDNN</td>\n",
       "      <td>ms</td>\n",
       "      <td>2020-06-17 00:48:35 -0700</td>\n",
       "      <td>2020-06-17 00:47:30 -0700</td>\n",
       "      <td>2020-06-17 00:48:35 -0700</td>\n",
       "      <td>16.0000</td>\n",
       "    </tr>\n",
       "    <tr>\n",
       "      <th>3304</th>\n",
       "      <td>Timothy’s Apple Watch</td>\n",
       "      <td>6.2.5</td>\n",
       "      <td>&lt;&lt;HKDevice: 0x28089f9d0&gt;, name:Apple Watch, ma...</td>\n",
       "      <td>HeartRateVariabilitySDNN</td>\n",
       "      <td>ms</td>\n",
       "      <td>2020-06-17 04:48:33 -0700</td>\n",
       "      <td>2020-06-17 04:47:28 -0700</td>\n",
       "      <td>2020-06-17 04:48:33 -0700</td>\n",
       "      <td>20.5639</td>\n",
       "    </tr>\n",
       "    <tr>\n",
       "      <th>3305</th>\n",
       "      <td>Timothy’s Apple Watch</td>\n",
       "      <td>6.2.5</td>\n",
       "      <td>&lt;&lt;HKDevice: 0x28089fac0&gt;, name:Apple Watch, ma...</td>\n",
       "      <td>HeartRateVariabilitySDNN</td>\n",
       "      <td>ms</td>\n",
       "      <td>2020-06-17 23:43:39 -0700</td>\n",
       "      <td>2020-06-17 23:42:33 -0700</td>\n",
       "      <td>2020-06-17 23:43:39 -0700</td>\n",
       "      <td>18.5253</td>\n",
       "    </tr>\n",
       "    <tr>\n",
       "      <th>3306</th>\n",
       "      <td>Timothy’s Apple Watch</td>\n",
       "      <td>6.2.5</td>\n",
       "      <td>&lt;&lt;HKDevice: 0x28089fbb0&gt;, name:Apple Watch, ma...</td>\n",
       "      <td>HeartRateVariabilitySDNN</td>\n",
       "      <td>ms</td>\n",
       "      <td>2020-06-18 01:06:53 -0700</td>\n",
       "      <td>2020-06-18 01:05:47 -0700</td>\n",
       "      <td>2020-06-18 01:06:53 -0700</td>\n",
       "      <td>15.2950</td>\n",
       "    </tr>\n",
       "    <tr>\n",
       "      <th>3307</th>\n",
       "      <td>Timothy’s Apple Watch</td>\n",
       "      <td>6.2.5</td>\n",
       "      <td>&lt;&lt;HKDevice: 0x28089fca0&gt;, name:Apple Watch, ma...</td>\n",
       "      <td>HeartRateVariabilitySDNN</td>\n",
       "      <td>ms</td>\n",
       "      <td>2020-06-18 04:48:35 -0700</td>\n",
       "      <td>2020-06-18 04:47:29 -0700</td>\n",
       "      <td>2020-06-18 04:48:35 -0700</td>\n",
       "      <td>12.9759</td>\n",
       "    </tr>\n",
       "  </tbody>\n",
       "</table>\n",
       "</div>"
      ],
      "text/plain": [
       "                 sourceName sourceVersion  \\\n",
       "3303  Timothy’s Apple Watch         6.2.5   \n",
       "3304  Timothy’s Apple Watch         6.2.5   \n",
       "3305  Timothy’s Apple Watch         6.2.5   \n",
       "3306  Timothy’s Apple Watch         6.2.5   \n",
       "3307  Timothy’s Apple Watch         6.2.5   \n",
       "\n",
       "                                                 device  \\\n",
       "3303  <<HKDevice: 0x28089f8e0>, name:Apple Watch, ma...   \n",
       "3304  <<HKDevice: 0x28089f9d0>, name:Apple Watch, ma...   \n",
       "3305  <<HKDevice: 0x28089fac0>, name:Apple Watch, ma...   \n",
       "3306  <<HKDevice: 0x28089fbb0>, name:Apple Watch, ma...   \n",
       "3307  <<HKDevice: 0x28089fca0>, name:Apple Watch, ma...   \n",
       "\n",
       "                          type unit               creationDate  \\\n",
       "3303  HeartRateVariabilitySDNN   ms  2020-06-17 00:48:35 -0700   \n",
       "3304  HeartRateVariabilitySDNN   ms  2020-06-17 04:48:33 -0700   \n",
       "3305  HeartRateVariabilitySDNN   ms  2020-06-17 23:43:39 -0700   \n",
       "3306  HeartRateVariabilitySDNN   ms  2020-06-18 01:06:53 -0700   \n",
       "3307  HeartRateVariabilitySDNN   ms  2020-06-18 04:48:35 -0700   \n",
       "\n",
       "                      startDate                    endDate    value  \n",
       "3303  2020-06-17 00:47:30 -0700  2020-06-17 00:48:35 -0700  16.0000  \n",
       "3304  2020-06-17 04:47:28 -0700  2020-06-17 04:48:33 -0700  20.5639  \n",
       "3305  2020-06-17 23:42:33 -0700  2020-06-17 23:43:39 -0700  18.5253  \n",
       "3306  2020-06-18 01:05:47 -0700  2020-06-18 01:06:53 -0700  15.2950  \n",
       "3307  2020-06-18 04:47:29 -0700  2020-06-18 04:48:35 -0700  12.9759  "
      ]
     },
     "execution_count": 27,
     "metadata": {},
     "output_type": "execute_result"
    }
   ],
   "source": [
    "hrv.tail()"
   ]
  },
  {
   "cell_type": "markdown",
   "metadata": {},
   "source": [
    "-------"
   ]
  },
  {
   "cell_type": "markdown",
   "metadata": {},
   "source": [
    "## VO2 Max"
   ]
  },
  {
   "cell_type": "code",
   "execution_count": 28,
   "metadata": {},
   "outputs": [],
   "source": [
    "vo2max = pd.read_csv(\"data/VO2Max.csv\")"
   ]
  },
  {
   "cell_type": "code",
   "execution_count": 29,
   "metadata": {},
   "outputs": [
    {
     "data": {
      "text/plain": [
       "172"
      ]
     },
     "execution_count": 29,
     "metadata": {},
     "output_type": "execute_result"
    }
   ],
   "source": [
    "len(vo2max)"
   ]
  },
  {
   "cell_type": "code",
   "execution_count": 30,
   "metadata": {},
   "outputs": [
    {
     "data": {
      "text/html": [
       "<div>\n",
       "<style scoped>\n",
       "    .dataframe tbody tr th:only-of-type {\n",
       "        vertical-align: middle;\n",
       "    }\n",
       "\n",
       "    .dataframe tbody tr th {\n",
       "        vertical-align: top;\n",
       "    }\n",
       "\n",
       "    .dataframe thead th {\n",
       "        text-align: right;\n",
       "    }\n",
       "</style>\n",
       "<table border=\"1\" class=\"dataframe\">\n",
       "  <thead>\n",
       "    <tr style=\"text-align: right;\">\n",
       "      <th></th>\n",
       "      <th>sourceVersion</th>\n",
       "      <th>device</th>\n",
       "      <th>value</th>\n",
       "    </tr>\n",
       "  </thead>\n",
       "  <tbody>\n",
       "    <tr>\n",
       "      <th>count</th>\n",
       "      <td>0.0</td>\n",
       "      <td>0.0</td>\n",
       "      <td>172.000000</td>\n",
       "    </tr>\n",
       "    <tr>\n",
       "      <th>mean</th>\n",
       "      <td>NaN</td>\n",
       "      <td>NaN</td>\n",
       "      <td>31.801405</td>\n",
       "    </tr>\n",
       "    <tr>\n",
       "      <th>std</th>\n",
       "      <td>NaN</td>\n",
       "      <td>NaN</td>\n",
       "      <td>2.120100</td>\n",
       "    </tr>\n",
       "    <tr>\n",
       "      <th>min</th>\n",
       "      <td>NaN</td>\n",
       "      <td>NaN</td>\n",
       "      <td>28.497100</td>\n",
       "    </tr>\n",
       "    <tr>\n",
       "      <th>25%</th>\n",
       "      <td>NaN</td>\n",
       "      <td>NaN</td>\n",
       "      <td>30.220475</td>\n",
       "    </tr>\n",
       "    <tr>\n",
       "      <th>50%</th>\n",
       "      <td>NaN</td>\n",
       "      <td>NaN</td>\n",
       "      <td>31.489050</td>\n",
       "    </tr>\n",
       "    <tr>\n",
       "      <th>75%</th>\n",
       "      <td>NaN</td>\n",
       "      <td>NaN</td>\n",
       "      <td>33.420800</td>\n",
       "    </tr>\n",
       "    <tr>\n",
       "      <th>max</th>\n",
       "      <td>NaN</td>\n",
       "      <td>NaN</td>\n",
       "      <td>37.202800</td>\n",
       "    </tr>\n",
       "  </tbody>\n",
       "</table>\n",
       "</div>"
      ],
      "text/plain": [
       "       sourceVersion  device       value\n",
       "count            0.0     0.0  172.000000\n",
       "mean             NaN     NaN   31.801405\n",
       "std              NaN     NaN    2.120100\n",
       "min              NaN     NaN   28.497100\n",
       "25%              NaN     NaN   30.220475\n",
       "50%              NaN     NaN   31.489050\n",
       "75%              NaN     NaN   33.420800\n",
       "max              NaN     NaN   37.202800"
      ]
     },
     "execution_count": 30,
     "metadata": {},
     "output_type": "execute_result"
    }
   ],
   "source": [
    "vo2max.describe()"
   ]
  },
  {
   "cell_type": "markdown",
   "metadata": {},
   "source": [
    "----"
   ]
  },
  {
   "cell_type": "markdown",
   "metadata": {},
   "source": [
    "## Blood Pressure"
   ]
  },
  {
   "cell_type": "code",
   "execution_count": 31,
   "metadata": {},
   "outputs": [
    {
     "ename": "FileNotFoundError",
     "evalue": "[Errno 2] File data/BloodPressureDiastolic.csv does not exist: 'data/BloodPressureDiastolic.csv'",
     "output_type": "error",
     "traceback": [
      "\u001b[0;31m---------------------------------------------------------------------------\u001b[0m",
      "\u001b[0;31mFileNotFoundError\u001b[0m                         Traceback (most recent call last)",
      "\u001b[0;32m~/Code/GitHub/qs_ledger/apple_health/apple-health-data-parser.py\u001b[0m in \u001b[0;36m<module>\u001b[0;34m\u001b[0m\n\u001b[0;32m----> 1\u001b[0;31m \u001b[0mdiastolic\u001b[0m \u001b[0;34m=\u001b[0m \u001b[0mpd\u001b[0m\u001b[0;34m.\u001b[0m\u001b[0mread_csv\u001b[0m\u001b[0;34m(\u001b[0m\u001b[0;34m\"data/BloodPressureDiastolic.csv\"\u001b[0m\u001b[0;34m)\u001b[0m\u001b[0;34m\u001b[0m\u001b[0;34m\u001b[0m\u001b[0m\n\u001b[0m\u001b[1;32m      2\u001b[0m \u001b[0msystolic\u001b[0m \u001b[0;34m=\u001b[0m \u001b[0mpd\u001b[0m\u001b[0;34m.\u001b[0m\u001b[0mread_csv\u001b[0m\u001b[0;34m(\u001b[0m\u001b[0;34m\"data/BloodPressureSystolic.csv\"\u001b[0m\u001b[0;34m)\u001b[0m\u001b[0;34m\u001b[0m\u001b[0;34m\u001b[0m\u001b[0m\n",
      "\u001b[0;32m~/miniconda3/envs/nb_conda/lib/python3.8/site-packages/pandas/io/parsers.py\u001b[0m in \u001b[0;36mparser_f\u001b[0;34m(filepath_or_buffer, sep, delimiter, header, names, index_col, usecols, squeeze, prefix, mangle_dupe_cols, dtype, engine, converters, true_values, false_values, skipinitialspace, skiprows, skipfooter, nrows, na_values, keep_default_na, na_filter, verbose, skip_blank_lines, parse_dates, infer_datetime_format, keep_date_col, date_parser, dayfirst, cache_dates, iterator, chunksize, compression, thousands, decimal, lineterminator, quotechar, quoting, doublequote, escapechar, comment, encoding, dialect, error_bad_lines, warn_bad_lines, delim_whitespace, low_memory, memory_map, float_precision)\u001b[0m\n\u001b[1;32m    674\u001b[0m         )\n\u001b[1;32m    675\u001b[0m \u001b[0;34m\u001b[0m\u001b[0m\n\u001b[0;32m--> 676\u001b[0;31m         \u001b[0;32mreturn\u001b[0m \u001b[0m_read\u001b[0m\u001b[0;34m(\u001b[0m\u001b[0mfilepath_or_buffer\u001b[0m\u001b[0;34m,\u001b[0m \u001b[0mkwds\u001b[0m\u001b[0;34m)\u001b[0m\u001b[0;34m\u001b[0m\u001b[0;34m\u001b[0m\u001b[0m\n\u001b[0m\u001b[1;32m    677\u001b[0m \u001b[0;34m\u001b[0m\u001b[0m\n\u001b[1;32m    678\u001b[0m     \u001b[0mparser_f\u001b[0m\u001b[0;34m.\u001b[0m\u001b[0m__name__\u001b[0m \u001b[0;34m=\u001b[0m \u001b[0mname\u001b[0m\u001b[0;34m\u001b[0m\u001b[0;34m\u001b[0m\u001b[0m\n",
      "\u001b[0;32m~/miniconda3/envs/nb_conda/lib/python3.8/site-packages/pandas/io/parsers.py\u001b[0m in \u001b[0;36m_read\u001b[0;34m(filepath_or_buffer, kwds)\u001b[0m\n\u001b[1;32m    446\u001b[0m \u001b[0;34m\u001b[0m\u001b[0m\n\u001b[1;32m    447\u001b[0m     \u001b[0;31m# Create the parser.\u001b[0m\u001b[0;34m\u001b[0m\u001b[0;34m\u001b[0m\u001b[0;34m\u001b[0m\u001b[0m\n\u001b[0;32m--> 448\u001b[0;31m     \u001b[0mparser\u001b[0m \u001b[0;34m=\u001b[0m \u001b[0mTextFileReader\u001b[0m\u001b[0;34m(\u001b[0m\u001b[0mfp_or_buf\u001b[0m\u001b[0;34m,\u001b[0m \u001b[0;34m**\u001b[0m\u001b[0mkwds\u001b[0m\u001b[0;34m)\u001b[0m\u001b[0;34m\u001b[0m\u001b[0;34m\u001b[0m\u001b[0m\n\u001b[0m\u001b[1;32m    449\u001b[0m \u001b[0;34m\u001b[0m\u001b[0m\n\u001b[1;32m    450\u001b[0m     \u001b[0;32mif\u001b[0m \u001b[0mchunksize\u001b[0m \u001b[0;32mor\u001b[0m \u001b[0miterator\u001b[0m\u001b[0;34m:\u001b[0m\u001b[0;34m\u001b[0m\u001b[0;34m\u001b[0m\u001b[0m\n",
      "\u001b[0;32m~/miniconda3/envs/nb_conda/lib/python3.8/site-packages/pandas/io/parsers.py\u001b[0m in \u001b[0;36m__init__\u001b[0;34m(self, f, engine, **kwds)\u001b[0m\n\u001b[1;32m    878\u001b[0m             \u001b[0mself\u001b[0m\u001b[0;34m.\u001b[0m\u001b[0moptions\u001b[0m\u001b[0;34m[\u001b[0m\u001b[0;34m\"has_index_names\"\u001b[0m\u001b[0;34m]\u001b[0m \u001b[0;34m=\u001b[0m \u001b[0mkwds\u001b[0m\u001b[0;34m[\u001b[0m\u001b[0;34m\"has_index_names\"\u001b[0m\u001b[0;34m]\u001b[0m\u001b[0;34m\u001b[0m\u001b[0;34m\u001b[0m\u001b[0m\n\u001b[1;32m    879\u001b[0m \u001b[0;34m\u001b[0m\u001b[0m\n\u001b[0;32m--> 880\u001b[0;31m         \u001b[0mself\u001b[0m\u001b[0;34m.\u001b[0m\u001b[0m_make_engine\u001b[0m\u001b[0;34m(\u001b[0m\u001b[0mself\u001b[0m\u001b[0;34m.\u001b[0m\u001b[0mengine\u001b[0m\u001b[0;34m)\u001b[0m\u001b[0;34m\u001b[0m\u001b[0;34m\u001b[0m\u001b[0m\n\u001b[0m\u001b[1;32m    881\u001b[0m \u001b[0;34m\u001b[0m\u001b[0m\n\u001b[1;32m    882\u001b[0m     \u001b[0;32mdef\u001b[0m \u001b[0mclose\u001b[0m\u001b[0;34m(\u001b[0m\u001b[0mself\u001b[0m\u001b[0;34m)\u001b[0m\u001b[0;34m:\u001b[0m\u001b[0;34m\u001b[0m\u001b[0;34m\u001b[0m\u001b[0m\n",
      "\u001b[0;32m~/miniconda3/envs/nb_conda/lib/python3.8/site-packages/pandas/io/parsers.py\u001b[0m in \u001b[0;36m_make_engine\u001b[0;34m(self, engine)\u001b[0m\n\u001b[1;32m   1112\u001b[0m     \u001b[0;32mdef\u001b[0m \u001b[0m_make_engine\u001b[0m\u001b[0;34m(\u001b[0m\u001b[0mself\u001b[0m\u001b[0;34m,\u001b[0m \u001b[0mengine\u001b[0m\u001b[0;34m=\u001b[0m\u001b[0;34m\"c\"\u001b[0m\u001b[0;34m)\u001b[0m\u001b[0;34m:\u001b[0m\u001b[0;34m\u001b[0m\u001b[0;34m\u001b[0m\u001b[0m\n\u001b[1;32m   1113\u001b[0m         \u001b[0;32mif\u001b[0m \u001b[0mengine\u001b[0m \u001b[0;34m==\u001b[0m \u001b[0;34m\"c\"\u001b[0m\u001b[0;34m:\u001b[0m\u001b[0;34m\u001b[0m\u001b[0;34m\u001b[0m\u001b[0m\n\u001b[0;32m-> 1114\u001b[0;31m             \u001b[0mself\u001b[0m\u001b[0;34m.\u001b[0m\u001b[0m_engine\u001b[0m \u001b[0;34m=\u001b[0m \u001b[0mCParserWrapper\u001b[0m\u001b[0;34m(\u001b[0m\u001b[0mself\u001b[0m\u001b[0;34m.\u001b[0m\u001b[0mf\u001b[0m\u001b[0;34m,\u001b[0m \u001b[0;34m**\u001b[0m\u001b[0mself\u001b[0m\u001b[0;34m.\u001b[0m\u001b[0moptions\u001b[0m\u001b[0;34m)\u001b[0m\u001b[0;34m\u001b[0m\u001b[0;34m\u001b[0m\u001b[0m\n\u001b[0m\u001b[1;32m   1115\u001b[0m         \u001b[0;32melse\u001b[0m\u001b[0;34m:\u001b[0m\u001b[0;34m\u001b[0m\u001b[0;34m\u001b[0m\u001b[0m\n\u001b[1;32m   1116\u001b[0m             \u001b[0;32mif\u001b[0m \u001b[0mengine\u001b[0m \u001b[0;34m==\u001b[0m \u001b[0;34m\"python\"\u001b[0m\u001b[0;34m:\u001b[0m\u001b[0;34m\u001b[0m\u001b[0;34m\u001b[0m\u001b[0m\n",
      "\u001b[0;32m~/miniconda3/envs/nb_conda/lib/python3.8/site-packages/pandas/io/parsers.py\u001b[0m in \u001b[0;36m__init__\u001b[0;34m(self, src, **kwds)\u001b[0m\n\u001b[1;32m   1889\u001b[0m         \u001b[0mkwds\u001b[0m\u001b[0;34m[\u001b[0m\u001b[0;34m\"usecols\"\u001b[0m\u001b[0;34m]\u001b[0m \u001b[0;34m=\u001b[0m \u001b[0mself\u001b[0m\u001b[0;34m.\u001b[0m\u001b[0musecols\u001b[0m\u001b[0;34m\u001b[0m\u001b[0;34m\u001b[0m\u001b[0m\n\u001b[1;32m   1890\u001b[0m \u001b[0;34m\u001b[0m\u001b[0m\n\u001b[0;32m-> 1891\u001b[0;31m         \u001b[0mself\u001b[0m\u001b[0;34m.\u001b[0m\u001b[0m_reader\u001b[0m \u001b[0;34m=\u001b[0m \u001b[0mparsers\u001b[0m\u001b[0;34m.\u001b[0m\u001b[0mTextReader\u001b[0m\u001b[0;34m(\u001b[0m\u001b[0msrc\u001b[0m\u001b[0;34m,\u001b[0m \u001b[0;34m**\u001b[0m\u001b[0mkwds\u001b[0m\u001b[0;34m)\u001b[0m\u001b[0;34m\u001b[0m\u001b[0;34m\u001b[0m\u001b[0m\n\u001b[0m\u001b[1;32m   1892\u001b[0m         \u001b[0mself\u001b[0m\u001b[0;34m.\u001b[0m\u001b[0munnamed_cols\u001b[0m \u001b[0;34m=\u001b[0m \u001b[0mself\u001b[0m\u001b[0;34m.\u001b[0m\u001b[0m_reader\u001b[0m\u001b[0;34m.\u001b[0m\u001b[0munnamed_cols\u001b[0m\u001b[0;34m\u001b[0m\u001b[0;34m\u001b[0m\u001b[0m\n\u001b[1;32m   1893\u001b[0m \u001b[0;34m\u001b[0m\u001b[0m\n",
      "\u001b[0;32mpandas/_libs/parsers.pyx\u001b[0m in \u001b[0;36mpandas._libs.parsers.TextReader.__cinit__\u001b[0;34m()\u001b[0m\n",
      "\u001b[0;32mpandas/_libs/parsers.pyx\u001b[0m in \u001b[0;36mpandas._libs.parsers.TextReader._setup_parser_source\u001b[0;34m()\u001b[0m\n",
      "\u001b[0;31mFileNotFoundError\u001b[0m: [Errno 2] File data/BloodPressureDiastolic.csv does not exist: 'data/BloodPressureDiastolic.csv'"
     ]
    }
   ],
   "source": [
    "diastolic = pd.read_csv(\"data/BloodPressureDiastolic.csv\")\n",
    "systolic = pd.read_csv(\"data/BloodPressureSystolic.csv\")"
   ]
  },
  {
   "cell_type": "code",
   "execution_count": 32,
   "metadata": {},
   "outputs": [
    {
     "ename": "NameError",
     "evalue": "name 'diastolic' is not defined",
     "output_type": "error",
     "traceback": [
      "\u001b[0;31m---------------------------------------------------------------------------\u001b[0m",
      "\u001b[0;31mNameError\u001b[0m                                 Traceback (most recent call last)",
      "\u001b[0;32m~/Code/GitHub/qs_ledger/apple_health/apple-health-data-parser.py\u001b[0m in \u001b[0;36m<module>\u001b[0;34m\u001b[0m\n\u001b[0;32m----> 1\u001b[0;31m \u001b[0mdiastolic\u001b[0m\u001b[0;34m.\u001b[0m\u001b[0mdescribe\u001b[0m\u001b[0;34m(\u001b[0m\u001b[0;34m)\u001b[0m\u001b[0;34m\u001b[0m\u001b[0;34m\u001b[0m\u001b[0m\n\u001b[0m",
      "\u001b[0;31mNameError\u001b[0m: name 'diastolic' is not defined"
     ]
    }
   ],
   "source": [
    "diastolic.describe()"
   ]
  },
  {
   "cell_type": "code",
   "execution_count": 33,
   "metadata": {},
   "outputs": [
    {
     "ename": "NameError",
     "evalue": "name 'systolic' is not defined",
     "output_type": "error",
     "traceback": [
      "\u001b[0;31m---------------------------------------------------------------------------\u001b[0m",
      "\u001b[0;31mNameError\u001b[0m                                 Traceback (most recent call last)",
      "\u001b[0;32m~/Code/GitHub/qs_ledger/apple_health/apple-health-data-parser.py\u001b[0m in \u001b[0;36m<module>\u001b[0;34m\u001b[0m\n\u001b[0;32m----> 1\u001b[0;31m \u001b[0msystolic\u001b[0m\u001b[0;34m.\u001b[0m\u001b[0mdescribe\u001b[0m\u001b[0;34m(\u001b[0m\u001b[0;34m)\u001b[0m\u001b[0;34m\u001b[0m\u001b[0;34m\u001b[0m\u001b[0m\n\u001b[0m",
      "\u001b[0;31mNameError\u001b[0m: name 'systolic' is not defined"
     ]
    }
   ],
   "source": [
    "systolic.describe()"
   ]
  },
  {
   "cell_type": "markdown",
   "metadata": {},
   "source": [
    "------"
   ]
  },
  {
   "cell_type": "markdown",
   "metadata": {},
   "source": [
    "## Sleep"
   ]
  },
  {
   "cell_type": "code",
   "execution_count": 37,
   "metadata": {},
   "outputs": [],
   "source": [
    "sleep = pd.read_csv(\"data/SleepAnalysis.csv\")"
   ]
  },
  {
   "cell_type": "code",
   "execution_count": 38,
   "metadata": {},
   "outputs": [
    {
     "data": {
      "text/html": [
       "<div>\n",
       "<style scoped>\n",
       "    .dataframe tbody tr th:only-of-type {\n",
       "        vertical-align: middle;\n",
       "    }\n",
       "\n",
       "    .dataframe tbody tr th {\n",
       "        vertical-align: top;\n",
       "    }\n",
       "\n",
       "    .dataframe thead th {\n",
       "        text-align: right;\n",
       "    }\n",
       "</style>\n",
       "<table border=\"1\" class=\"dataframe\">\n",
       "  <thead>\n",
       "    <tr style=\"text-align: right;\">\n",
       "      <th></th>\n",
       "      <th>sourceName</th>\n",
       "      <th>sourceVersion</th>\n",
       "      <th>device</th>\n",
       "      <th>type</th>\n",
       "      <th>unit</th>\n",
       "      <th>creationDate</th>\n",
       "      <th>startDate</th>\n",
       "      <th>endDate</th>\n",
       "      <th>value</th>\n",
       "    </tr>\n",
       "  </thead>\n",
       "  <tbody>\n",
       "    <tr>\n",
       "      <th>3817</th>\n",
       "      <td>AutoSleep</td>\n",
       "      <td>6.4.0</td>\n",
       "      <td>NaN</td>\n",
       "      <td>SleepAnalysis</td>\n",
       "      <td>NaN</td>\n",
       "      <td>2020-06-17 09:21:38 -0700</td>\n",
       "      <td>2020-06-16 22:39:00 -0700</td>\n",
       "      <td>2020-06-17 07:44:00 -0700</td>\n",
       "      <td>HKCategoryValueSleepAnalysisInBed</td>\n",
       "    </tr>\n",
       "    <tr>\n",
       "      <th>3818</th>\n",
       "      <td>AutoSleep</td>\n",
       "      <td>6.4.0</td>\n",
       "      <td>NaN</td>\n",
       "      <td>SleepAnalysis</td>\n",
       "      <td>NaN</td>\n",
       "      <td>2020-06-17 09:21:38 -0700</td>\n",
       "      <td>2020-06-17 07:15:00 -0700</td>\n",
       "      <td>2020-06-17 07:44:00 -0700</td>\n",
       "      <td>HKCategoryValueSleepAnalysisAsleep</td>\n",
       "    </tr>\n",
       "    <tr>\n",
       "      <th>3819</th>\n",
       "      <td>AutoSleep</td>\n",
       "      <td>6.4.0</td>\n",
       "      <td>NaN</td>\n",
       "      <td>SleepAnalysis</td>\n",
       "      <td>NaN</td>\n",
       "      <td>2020-06-18 05:37:28 -0700</td>\n",
       "      <td>2020-06-17 23:47:00 -0700</td>\n",
       "      <td>2020-06-18 00:47:00 -0700</td>\n",
       "      <td>HKCategoryValueSleepAnalysisAsleep</td>\n",
       "    </tr>\n",
       "    <tr>\n",
       "      <th>3820</th>\n",
       "      <td>AutoSleep</td>\n",
       "      <td>6.4.0</td>\n",
       "      <td>NaN</td>\n",
       "      <td>SleepAnalysis</td>\n",
       "      <td>NaN</td>\n",
       "      <td>2020-06-18 05:37:28 -0700</td>\n",
       "      <td>2020-06-17 23:47:00 -0700</td>\n",
       "      <td>2020-06-18 05:16:00 -0700</td>\n",
       "      <td>HKCategoryValueSleepAnalysisInBed</td>\n",
       "    </tr>\n",
       "    <tr>\n",
       "      <th>3821</th>\n",
       "      <td>AutoSleep</td>\n",
       "      <td>6.4.0</td>\n",
       "      <td>NaN</td>\n",
       "      <td>SleepAnalysis</td>\n",
       "      <td>NaN</td>\n",
       "      <td>2020-06-18 05:37:28 -0700</td>\n",
       "      <td>2020-06-18 00:57:00 -0700</td>\n",
       "      <td>2020-06-18 05:16:00 -0700</td>\n",
       "      <td>HKCategoryValueSleepAnalysisAsleep</td>\n",
       "    </tr>\n",
       "  </tbody>\n",
       "</table>\n",
       "</div>"
      ],
      "text/plain": [
       "     sourceName sourceVersion device           type  unit  \\\n",
       "3817  AutoSleep         6.4.0    NaN  SleepAnalysis   NaN   \n",
       "3818  AutoSleep         6.4.0    NaN  SleepAnalysis   NaN   \n",
       "3819  AutoSleep         6.4.0    NaN  SleepAnalysis   NaN   \n",
       "3820  AutoSleep         6.4.0    NaN  SleepAnalysis   NaN   \n",
       "3821  AutoSleep         6.4.0    NaN  SleepAnalysis   NaN   \n",
       "\n",
       "                   creationDate                  startDate  \\\n",
       "3817  2020-06-17 09:21:38 -0700  2020-06-16 22:39:00 -0700   \n",
       "3818  2020-06-17 09:21:38 -0700  2020-06-17 07:15:00 -0700   \n",
       "3819  2020-06-18 05:37:28 -0700  2020-06-17 23:47:00 -0700   \n",
       "3820  2020-06-18 05:37:28 -0700  2020-06-17 23:47:00 -0700   \n",
       "3821  2020-06-18 05:37:28 -0700  2020-06-18 00:57:00 -0700   \n",
       "\n",
       "                        endDate                               value  \n",
       "3817  2020-06-17 07:44:00 -0700   HKCategoryValueSleepAnalysisInBed  \n",
       "3818  2020-06-17 07:44:00 -0700  HKCategoryValueSleepAnalysisAsleep  \n",
       "3819  2020-06-18 00:47:00 -0700  HKCategoryValueSleepAnalysisAsleep  \n",
       "3820  2020-06-18 05:16:00 -0700   HKCategoryValueSleepAnalysisInBed  \n",
       "3821  2020-06-18 05:16:00 -0700  HKCategoryValueSleepAnalysisAsleep  "
      ]
     },
     "execution_count": 38,
     "metadata": {},
     "output_type": "execute_result"
    }
   ],
   "source": [
    "sleep.tail()"
   ]
  },
  {
   "cell_type": "code",
   "execution_count": 39,
   "metadata": {},
   "outputs": [
    {
     "data": {
      "text/html": [
       "<div>\n",
       "<style scoped>\n",
       "    .dataframe tbody tr th:only-of-type {\n",
       "        vertical-align: middle;\n",
       "    }\n",
       "\n",
       "    .dataframe tbody tr th {\n",
       "        vertical-align: top;\n",
       "    }\n",
       "\n",
       "    .dataframe thead th {\n",
       "        text-align: right;\n",
       "    }\n",
       "</style>\n",
       "<table border=\"1\" class=\"dataframe\">\n",
       "  <thead>\n",
       "    <tr style=\"text-align: right;\">\n",
       "      <th></th>\n",
       "      <th>unit</th>\n",
       "    </tr>\n",
       "  </thead>\n",
       "  <tbody>\n",
       "    <tr>\n",
       "      <th>count</th>\n",
       "      <td>0.0</td>\n",
       "    </tr>\n",
       "    <tr>\n",
       "      <th>mean</th>\n",
       "      <td>NaN</td>\n",
       "    </tr>\n",
       "    <tr>\n",
       "      <th>std</th>\n",
       "      <td>NaN</td>\n",
       "    </tr>\n",
       "    <tr>\n",
       "      <th>min</th>\n",
       "      <td>NaN</td>\n",
       "    </tr>\n",
       "    <tr>\n",
       "      <th>25%</th>\n",
       "      <td>NaN</td>\n",
       "    </tr>\n",
       "    <tr>\n",
       "      <th>50%</th>\n",
       "      <td>NaN</td>\n",
       "    </tr>\n",
       "    <tr>\n",
       "      <th>75%</th>\n",
       "      <td>NaN</td>\n",
       "    </tr>\n",
       "    <tr>\n",
       "      <th>max</th>\n",
       "      <td>NaN</td>\n",
       "    </tr>\n",
       "  </tbody>\n",
       "</table>\n",
       "</div>"
      ],
      "text/plain": [
       "       unit\n",
       "count   0.0\n",
       "mean    NaN\n",
       "std     NaN\n",
       "min     NaN\n",
       "25%     NaN\n",
       "50%     NaN\n",
       "75%     NaN\n",
       "max     NaN"
      ]
     },
     "execution_count": 39,
     "metadata": {},
     "output_type": "execute_result"
    }
   ],
   "source": [
    "sleep.describe()"
   ]
  },
  {
   "cell_type": "code",
   "execution_count": null,
   "metadata": {},
   "outputs": [],
   "source": []
  },
  {
   "cell_type": "code",
   "execution_count": null,
   "metadata": {},
   "outputs": [],
   "source": []
  }
 ],
 "metadata": {
  "kernelspec": {
   "display_name": "Python 3",
   "language": "python",
   "name": "python3"
  },
  "language_info": {
   "codemirror_mode": {
    "name": "ipython",
    "version": 3
   },
   "file_extension": ".py",
   "mimetype": "text/x-python",
   "name": "python",
   "nbconvert_exporter": "python",
   "pygments_lexer": "ipython3",
   "version": "3.8.0"
  }
 },
 "nbformat": 4,
 "nbformat_minor": 2
}
